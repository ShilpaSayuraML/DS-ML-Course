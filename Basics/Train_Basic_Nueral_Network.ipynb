{
  "cells": [
    {
      "cell_type": "markdown",
      "metadata": {
        "id": "W347BPlGyGEk"
      },
      "source": [
        "## Train Basic Neural Network\n",
        "\n",
        "a fun exercise to see how well you understand my AI Simplified Playlist:\n",
        "<br>\n",
        "https://youtube.com/playlist?list=PLqXS1b2lRpYTpUIEu3oxfhhTuBXmMPppA\n",
        "<br>\n",
        "<br>\n",
        "The entire code below is explained step by step, command by command, in this tutorial of mine:\n",
        "<br>\n",
        "https://youtu.be/xpPX3fBM9dU\n",
        "<br>\n",
        "<br>\n",
        "by: Mariya Sha"
      ]
    },
    {
      "cell_type": "markdown",
      "metadata": {
        "id": "mtpUNJLByGEw"
      },
      "source": [
        "### STEP 1: Generate Data"
      ]
    },
    {
      "cell_type": "code",
      "execution_count": 3,
      "metadata": {
        "id": "dK_1QIsmyGEy",
        "outputId": "162874d0-42d4-4c69-b1b7-8dfbd480e9d6",
        "colab": {
          "base_uri": "https://localhost:8080/"
        }
      },
      "outputs": [
        {
          "output_type": "stream",
          "name": "stdout",
          "text": [
            "         x0        x1        x2  targets\n",
            "0  0.948433  0.730209  0.299710        0\n",
            "1  0.596069  0.703006  0.177977        1\n",
            "2  0.807128  0.904317  0.770242        0\n",
            "3  0.397788  0.977259  0.467756        0\n"
          ]
        }
      ],
      "source": [
        "import numpy as np\n",
        "import pandas as pd\n",
        "\n",
        "rg = np.random.default_rng()\n",
        "\n",
        "def generate_data(n_features, n_values):\n",
        "    features = rg.random((n_features, n_values))\n",
        "    weights = rg.random((1, n_values))[0]\n",
        "    targets = np.random.choice([0,1], n_features)\n",
        "    data = pd.DataFrame(features, columns=[\"x0\", \"x1\", \"x2\"])\n",
        "    data[\"targets\"] = targets\n",
        "    return data, weights\n",
        "\n",
        "data, weights = generate_data(4,3)\n",
        "print(data)"
      ]
    },
    {
      "cell_type": "code",
      "source": [
        "weights"
      ],
      "metadata": {
        "id": "sYE_YHfJyoH4",
        "outputId": "b3ca7e1e-fd4c-4c60-e5eb-426db0cf0617",
        "colab": {
          "base_uri": "https://localhost:8080/"
        }
      },
      "execution_count": 5,
      "outputs": [
        {
          "output_type": "execute_result",
          "data": {
            "text/plain": [
              "array([0.17326481, 0.06933956, 0.75615047])"
            ]
          },
          "metadata": {},
          "execution_count": 5
        }
      ]
    },
    {
      "cell_type": "markdown",
      "metadata": {
        "id": "5LA7-I9-yGE8"
      },
      "source": [
        "### STEP 2: Train Model"
      ]
    },
    {
      "cell_type": "code",
      "execution_count": 4,
      "metadata": {
        "id": "CwzNvISTyGE-",
        "outputId": "7c591847-4801-425f-b76b-8702b98aabd5",
        "colab": {
          "base_uri": "https://localhost:8080/"
        }
      },
      "outputs": [
        {
          "output_type": "stream",
          "name": "stdout",
          "text": [
            "**************************\n",
            "epoch 0\n",
            "0.4608076045574645\n",
            "**************************\n",
            "epoch 1\n",
            "0.3807668136565304\n",
            "**************************\n",
            "epoch 2\n",
            "0.32958802279570854\n",
            "**************************\n",
            "epoch 3\n",
            "0.29778713528429324\n",
            "**************************\n",
            "epoch 4\n",
            "0.278043189576636\n",
            "**************************\n",
            "epoch 5\n",
            "0.2655889751518734\n",
            "**************************\n",
            "epoch 6\n",
            "0.25753841024802454\n",
            "**************************\n",
            "epoch 7\n",
            "0.2521811526531437\n",
            "**************************\n",
            "epoch 8\n",
            "0.24849971711515279\n",
            "**************************\n",
            "epoch 9\n",
            "0.2458797957016044\n",
            "**************************\n",
            "epoch 10\n",
            "0.2439435895659274\n",
            "**************************\n",
            "epoch 11\n",
            "0.24245437028260755\n",
            "**************************\n",
            "epoch 12\n",
            "0.24126120677727142\n",
            "**************************\n",
            "epoch 13\n",
            "0.24026637482097937\n",
            "**************************\n",
            "epoch 14\n",
            "0.23940575221090754\n",
            "**************************\n",
            "epoch 15\n",
            "0.23863678841016284\n",
            "**************************\n",
            "epoch 16\n",
            "0.23793098259814502\n",
            "**************************\n",
            "epoch 17\n",
            "0.23726909950242353\n",
            "**************************\n",
            "epoch 18\n",
            "0.23663807965111272\n",
            "**************************\n",
            "epoch 19\n",
            "0.23602901685149894\n",
            "**************************\n",
            "epoch 20\n",
            "0.23543581863357244\n",
            "**************************\n",
            "epoch 21\n",
            "0.23485431002249324\n",
            "**************************\n",
            "epoch 22\n",
            "0.23428162874211556\n",
            "**************************\n",
            "epoch 23\n",
            "0.23371581413108952\n",
            "**************************\n",
            "epoch 24\n",
            "0.23315552606523104\n",
            "**************************\n",
            "epoch 25\n",
            "0.2325998518575814\n",
            "**************************\n",
            "epoch 26\n",
            "0.23204817311610149\n",
            "**************************\n",
            "epoch 27\n",
            "0.23150007370533432\n",
            "**************************\n",
            "epoch 28\n",
            "0.23095527602403212\n",
            "**************************\n",
            "epoch 29\n",
            "0.23041359686490753\n",
            "**************************\n",
            "epoch 30\n",
            "0.22987491685646538\n",
            "**************************\n",
            "epoch 31\n",
            "0.2293391593446739\n",
            "**************************\n",
            "epoch 32\n",
            "0.22880627584328084\n",
            "**************************\n",
            "epoch 33\n",
            "0.22827623605624547\n",
            "**************************\n",
            "epoch 34\n",
            "0.22774902108062406\n",
            "**************************\n",
            "epoch 35\n",
            "0.22722461881826234\n",
            "**************************\n",
            "epoch 36\n",
            "0.22670302091728659\n",
            "**************************\n",
            "epoch 37\n",
            "0.2261842207688122\n",
            "**************************\n",
            "epoch 38\n",
            "0.22566821222738354\n",
            "**************************\n",
            "epoch 39\n",
            "0.2251549888239512\n",
            "**************************\n",
            "epoch 40\n",
            "0.22464454331053624\n",
            "**************************\n",
            "epoch 41\n",
            "0.22413686742507\n",
            "**************************\n",
            "epoch 42\n",
            "0.22363195179948578\n",
            "**************************\n",
            "epoch 43\n",
            "0.22312978595834496\n",
            "**************************\n",
            "epoch 44\n",
            "0.22263035837219444\n",
            "**************************\n",
            "epoch 45\n",
            "0.22213365654162232\n",
            "**************************\n",
            "epoch 46\n",
            "0.22163966709614547\n",
            "**************************\n",
            "epoch 47\n",
            "0.22114837589768657\n",
            "**************************\n",
            "epoch 48\n",
            "0.220659768142251\n",
            "**************************\n",
            "epoch 49\n",
            "0.22017382845601802\n"
          ]
        }
      ],
      "source": [
        "bias = 0.5\n",
        "l_rate = 0.1\n",
        "epochs = 50\n",
        "epoch_loss = []\n",
        "\n",
        "def get_weighted_sum(feature, weights, bias):\n",
        "    return np.dot(feature, weights) + bias\n",
        "\n",
        "def sigmoid(w_sum):\n",
        "    return 1/(1+np.exp(-w_sum))\n",
        "\n",
        "def cross_entropy(target, prediction):\n",
        "    return -(target*np.log10(prediction) + (1-target)*np.log10(1-prediction))\n",
        "\n",
        "def update_weights(weights, l_rate, target, prediction, feature):\n",
        "    new_weights = []\n",
        "    for x, w in zip(feature, weights):\n",
        "        new_w = w + l_rate*(target-prediction)*x\n",
        "        new_weights.append(new_w)\n",
        "    return new_weights\n",
        "\n",
        "def update_bias(bias, l_rate, target, prediction):\n",
        "    return bias + l_rate*(target-prediction)\n",
        "\n",
        "def train_model(data, weights, bias, l_rate, epochs):\n",
        "    for e in range(epochs):\n",
        "        individual_loss = []\n",
        "        for i in range(len(data)):\n",
        "            feature = data.loc[i][:-1]\n",
        "            target = data.loc[i][-1]\n",
        "            w_sum = get_weighted_sum(feature, weights, bias)\n",
        "            prediction = sigmoid(w_sum)\n",
        "            loss = cross_entropy(target, prediction)\n",
        "            individual_loss.append(loss)\n",
        "            # gradient descent\n",
        "            weights = update_weights(weights, l_rate, target, prediction, feature)\n",
        "            bias = update_bias(bias, l_rate, target, prediction)\n",
        "        average_loss = sum(individual_loss)/len(individual_loss)\n",
        "        epoch_loss.append(average_loss)\n",
        "        print(\"**************************\")\n",
        "        print(\"epoch\", e)\n",
        "        print(average_loss)\n",
        "\n",
        "train_model(data, weights, bias, l_rate, epochs)"
      ]
    },
    {
      "cell_type": "markdown",
      "source": [
        "inferencing"
      ],
      "metadata": {
        "id": "WZ0fTQLXzdQV"
      }
    },
    {
      "cell_type": "markdown",
      "metadata": {
        "id": "kufixgC5yGFC"
      },
      "source": [
        "### STEP 3: Plot/Visuallize data"
      ]
    },
    {
      "cell_type": "code",
      "execution_count": 6,
      "metadata": {
        "id": "pU2VMWT6yGFE",
        "outputId": "3e37b02b-41a5-4845-f6b4-0e4df2b646df",
        "colab": {
          "base_uri": "https://localhost:8080/",
          "height": 447
        }
      },
      "outputs": [
        {
          "output_type": "execute_result",
          "data": {
            "text/plain": [
              "<Axes: >"
            ]
          },
          "metadata": {},
          "execution_count": 6
        },
        {
          "output_type": "display_data",
          "data": {
            "text/plain": [
              "<Figure size 640x480 with 1 Axes>"
            ],
            "image/png": "[encoded data removed]"
          },
          "metadata": {}
        }
      ],
      "source": [
        "df = pd.DataFrame(epoch_loss)\n",
        "df_plot = df.plot(kind=\"line\", grid=True)\n",
        "df_plot"
      ]
    },
    {
      "cell_type": "code",
      "source": [
        "import numpy as np\n",
        "\n",
        "def predict(feature, weights, bias):\n",
        "    w_sum = np.dot(feature, weights) + bias\n",
        "    prediction = sigmoid(w_sum)\n",
        "    return prediction\n",
        "\n",
        "# Replace the following with your trained weights and bias\n",
        "trained_weights = np.array([0.2, 0.3, 0.4])\n",
        "trained_bias = 0.5\n",
        "\n",
        "# Example new input for inference\n",
        "new_feature = np.array([0.1, 0.2, 0.3])\n",
        "\n",
        "# Perform inference\n",
        "prediction = predict(new_feature, trained_weights, trained_bias)\n",
        "\n",
        "# Interpret the result\n",
        "if prediction > 0.5:\n",
        "    prediction_label = \"Attack\"\n",
        "else:\n",
        "    prediction_label = \"Normal\"\n",
        "\n",
        "print(\"Prediction:\", prediction_label)\n",
        "print(\"Prediction Score:\", prediction)\n"
      ],
      "metadata": {
        "colab": {
          "base_uri": "https://localhost:8080/"
        },
        "id": "LRvGaj3tzfQs",
        "outputId": "c8f6ca5b-aed7-4cb4-83bc-2d7bd9610b3a"
      },
      "execution_count": 7,
      "outputs": [
        {
          "output_type": "stream",
          "name": "stdout",
          "text": [
            "Prediction: Attack\n",
            "Prediction Score: 0.6681877721681662\n"
          ]
        }
      ]
    },
    {
      "cell_type": "code",
      "execution_count": null,
      "metadata": {
        "id": "KmeGnt1OyGFH"
      },
      "outputs": [],
      "source": []
    }
  ],
  "metadata": {
    "kernelspec": {
      "display_name": "Python 3 (ipykernel)",
      "language": "python",
      "name": "python3"
    },
    "language_info": {
      "codemirror_mode": {
        "name": "ipython",
        "version": 3
      },
      "file_extension": ".py",
      "mimetype": "text/x-python",
      "name": "python",
      "nbconvert_exporter": "python",
      "pygments_lexer": "ipython3",
      "version": "3.9.7"
    },
    "colab": {
      "provenance": []
    }
  },
  "nbformat": 4,
  "nbformat_minor": 0
}